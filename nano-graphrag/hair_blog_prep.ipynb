{
 "cells": [
  {
   "cell_type": "code",
   "execution_count": 30,
   "id": "b113394e",
   "metadata": {},
   "outputs": [],
   "source": [
    "import pandas as pd \n",
    "df_b=pd.read_csv('hair_data/additional_boy_exaone_preprocessed.csv')\n",
    "# 헤어스타일 열 아래 리스트 대로 바꾸기 순서대로 \n",
    "boy_additional_hair_styles= ['아이비리그컷', '시스루댄디컷', '슬릭댄디컷','슬릭가일컷', '슬릭애즈펌','프링펌','장발', '빈티지펌','샤기컷'  ]\n",
    "df_b['헤어스타일'].value_counts().index\n",
    "# ['레이어드컷', '댄디컷', '다운펌', '레이어드펌', '가일컷', 'C컬펌', '태슬컷', '볼륨매직', '허쉬컷']를 ['아이비리그컷', '시스루댄디컷', '슬릭댄디컷','슬릭가일컷', '슬릭애즈펌','프링펌','장발', '빈티지펌','샤기컷' ]\n",
    "# 레이어드컷 -> 아이비리그컷, 댄디컷 -> 시스루댄디컷, 다운펌 -> 슬릭댄디컷, 레이어드펌 -> 슬릭가일컷, 가일컷 -> 슬릭애즈펌, C컬펌 -> 프링펌, 태슬컷 -> 장발, 볼륨매직 -> 빈티지펌, 허쉬컷 -> 샤기컷\n",
    "df_b['헤어스타일'] = df_b['헤어스타일'].replace({'레이어드컷':'아이비리그컷', '댄디컷':'시스루댄디컷', '허쉬컷':'슬릭댄디컷', '다운펌':'슬릭가일컷', '레이어드펌':'슬릭애즈펌', '가일컷':'프링펌', 'C컬펌':'장발', '태슬컷':'빈티지펌', '볼륨매직':'샤기컷'})\n"
   ]
  },
  {
   "cell_type": "code",
   "execution_count": 39,
   "id": "e99bf94a",
   "metadata": {},
   "outputs": [],
   "source": [
    "df_g=pd.read_csv('hair_data/additional_girl_exaone_preprocessed.csv')\n",
    "df_g['헤어스타일'].value_counts().index\n",
    "girl_additional_hair_styles=['구름펌','젤리펌', '그레이스펌', '빈티지펌', '히피펌', '샌드펌','허그펌','샤기컷','슬릭컷','블럭컷(히메컷)','페이지컷(일자컷)', '베베컷','웨이브펌', '리프컷', '시스루뱅', '풀뱅']\n",
    "# 여자도 똑같이 헤어스타일열 이름 바꾸기 -> \n",
    "df_g['헤어스타일'] = df_g['헤어스타일'].replace({'C컬펌':'구름펌', '가르마펌':'젤리펌', '가일컷':'그레이스펌', '다운펌':'빈티지펌', '댄디컷':'히피펌', \n",
    "                                       '레이어드컷':'샌드펌','레이어드펌':'허그펌','볼륨매직':'샤기컷','빌드펌(CS컬펌)':'슬릭컷','쉐도우펌':'블럭컷(히메컷)',\n",
    "                                       '아이롱펌':'페이지컷(일자컷)', '애즈펌':'베베컷','태슬컷':'웨이브펌', '투블럭컷':'리프컷', '허쉬컷':'시스루뱅', '히피펌(젤리펌)':'풀뱅'})"
   ]
  },
  {
   "cell_type": "code",
   "execution_count": 42,
   "id": "9d293fd3",
   "metadata": {},
   "outputs": [],
   "source": [
    "import pandas as pd\n",
    "\n",
    "# 데이터 불러오기\n",
    "df_g = pd.read_csv('hair_data/additional_girl_exaone_preprocessed.csv')\n",
    "\n",
    "# 기존 고유 헤어스타일 순서 추출\n",
    "unique_styles = df_g['헤어스타일'].value_counts().index.tolist()\n",
    "\n",
    "# 순서대로 덮어쓸 스타일 리스트\n",
    "girl_additional_hair_styles = [\n",
    "    '구름펌','젤리펌', '그레이스펌', '빈티지펌', '히피펌', '샌드펌','허그펌','샤기컷',\n",
    "    '슬릭컷','블럭컷(히메컷)','페이지컷(일자컷)', '베베컷','웨이브펌', '리프컷', '시스루뱅', '풀뱅'\n",
    "]\n",
    "\n",
    "# 고유값과 새로운 스타일 리스트 매핑\n",
    "if len(unique_styles) == len(girl_additional_hair_styles):\n",
    "    style_mapping = dict(zip(unique_styles, girl_additional_hair_styles))\n",
    "    df_g['헤어스타일'] = df_g['헤어스타일'].map(style_mapping)\n",
    "else:\n",
    "    print(\"고유값 개수와 새로운 스타일 리스트 개수가 일치하지 않습니다.\")\n"
   ]
  },
  {
   "cell_type": "code",
   "execution_count": 47,
   "id": "1334198d",
   "metadata": {},
   "outputs": [],
   "source": [
    "# 행을 합침\n",
    "df = pd.concat([df_b, df_g], ignore_index=True)\n",
    "df= pd.read_csv('hair_data/bloghair_summarize_750.csv')\n",
    "df2= pd.read_csv('hair_data/exaone_preprocessed.csv')\n",
    "final=pd.concat([df, df2,df_b, df_g], ignore_index=True)"
   ]
  },
  {
   "cell_type": "code",
   "execution_count": 63,
   "id": "4b1b8531",
   "metadata": {},
   "outputs": [
    {
     "name": "stderr",
     "output_type": "stream",
     "text": [
      "/var/folders/gl/6qlsk6x94klgs54qzsg9q1jm0000gn/T/ipykernel_6697/3930351496.py:3: DeprecationWarning: DataFrameGroupBy.apply operated on the grouping columns. This behavior is deprecated, and in a future version of pandas the grouping columns will be excluded from the operation. Either pass `include_groups=False` to exclude the groupings or explicitly select the grouping columns after groupby to silence this warning.\n",
      "  df = final.groupby('헤어스타일').apply(lambda x: x.sample(n=3, random_state=1)).reset_index(drop=True)\n"
     ]
    }
   ],
   "source": [
    "final\n",
    "# 헤어스타일별로 3개씩만 블로그 행 뽑아서 데이터프레임 만들기\n",
    "df = final.groupby('헤어스타일').apply(lambda x: x.sample(n=3, random_state=1)).reset_index(drop=True)\n",
    "df2 = df.groupby('헤어스타일')['요약'].apply(lambda x: ' '.join(x)).reset_index()\n"
   ]
  },
  {
   "cell_type": "code",
   "execution_count": 64,
   "id": "676768b2",
   "metadata": {},
   "outputs": [],
   "source": [
    "df_allure= pd.read_csv('hair_data/blog_allure_preprocess_final.csv')\n",
    "df_allure\n",
    "# 요약의열에 길이가 10 이하인 행 빼기\n",
    "df_allure = df_allure[df_allure['요약'].str.len() > 10]"
   ]
  },
  {
   "cell_type": "code",
   "execution_count": 67,
   "id": "29554ec4",
   "metadata": {},
   "outputs": [],
   "source": [
    "# df_allure['요약']과 df['요약']을 합쳐서 새로운 데이터프레임 만들기 -> 요약 열만 필요\n",
    "df_summary = pd.concat([df_allure['요약'].iloc[:30], df2['요약']], ignore_index=True)"
   ]
  },
  {
   "cell_type": "code",
   "execution_count": 68,
   "id": "9e17b4b8",
   "metadata": {},
   "outputs": [],
   "source": [
    "df_summary.to_csv('hair_data/for_graph.csv', index=False)"
   ]
  },
  {
   "cell_type": "code",
   "execution_count": null,
   "id": "51ce3535",
   "metadata": {},
   "outputs": [],
   "source": []
  }
 ],
 "metadata": {
  "kernelspec": {
   "display_name": "graphrag_env",
   "language": "python",
   "name": "python3"
  },
  "language_info": {
   "codemirror_mode": {
    "name": "ipython",
    "version": 3
   },
   "file_extension": ".py",
   "mimetype": "text/x-python",
   "name": "python",
   "nbconvert_exporter": "python",
   "pygments_lexer": "ipython3",
   "version": "3.10.16"
  }
 },
 "nbformat": 4,
 "nbformat_minor": 5
}
